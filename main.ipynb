{
 "cells": [
  {
   "cell_type": "code",
   "execution_count": 1,
   "metadata": {},
   "outputs": [],
   "source": [
    "from user import *"
   ]
  },
  {
   "cell_type": "code",
   "execution_count": 2,
   "metadata": {},
   "outputs": [],
   "source": [
    "user1 = User()  "
   ]
  },
  {
   "cell_type": "code",
   "execution_count": 3,
   "metadata": {},
   "outputs": [],
   "source": [
    "user1.login(\"Rosy\")"
   ]
  },
  {
   "cell_type": "code",
   "execution_count": 4,
   "metadata": {},
   "outputs": [
    {
     "name": "stdout",
     "output_type": "stream",
     "text": [
      "Data Plan Pacflix\n",
      "Basic Plan            Standard Plan                                           Premium Plan                                                   Services\n",
      "--------------------  ------------------------------------------------------  -------------------------------------------------------------  --------------\n",
      "True                  True                                                    True                                                           can_stream\n",
      "True                  True                                                    True                                                           can_download\n",
      "True                  True                                                    True                                                           has_SD\n",
      "False                 True                                                    True                                                           has_HD\n",
      "False                 False                                                   True                                                           has_UHD\n",
      "1                     2                                                       4                                                              num_of_devices\n",
      "3rd party movie only  Basic Plan Content + Sports (F1, Football, Basketball)  Basic Plan + Standard Plan + PacFlix Original Series or Movie  content\n",
      "120000                160000                                                  200000                                                         price\n"
     ]
    }
   ],
   "source": [
    "user1.check_plan()"
   ]
  },
  {
   "cell_type": "code",
   "execution_count": 5,
   "metadata": {},
   "outputs": [
    {
     "name": "stdout",
     "output_type": "stream",
     "text": [
      "plan dari user Rosy\n",
      "Standard Plan                                           Services\n",
      "------------------------------------------------------  --------------\n",
      "True                                                    can_stream\n",
      "True                                                    can_download\n",
      "True                                                    has_SD\n",
      "True                                                    has_HD\n",
      "False                                                   has_UHD\n",
      "2                                                       num_of_devices\n",
      "Basic Plan Content + Sports (F1, Football, Basketball)  content\n",
      "160000                                                  price\n"
     ]
    }
   ],
   "source": [
    "user1.check_plan_user()"
   ]
  },
  {
   "cell_type": "code",
   "execution_count": 6,
   "metadata": {},
   "outputs": [
    {
     "name": "stdout",
     "output_type": "stream",
     "text": [
      "selamat anda upgrade ke Premium Plan, bayar 190000.0\n"
     ]
    }
   ],
   "source": [
    "user1.upgrade(\"Premium Plan\")"
   ]
  },
  {
   "cell_type": "code",
   "execution_count": 7,
   "metadata": {},
   "outputs": [
    {
     "data": {
      "text/plain": [
       "'Premium Plan'"
      ]
     },
     "execution_count": 7,
     "metadata": {},
     "output_type": "execute_result"
    }
   ],
   "source": [
    "user1.current_plan"
   ]
  },
  {
   "cell_type": "code",
   "execution_count": 8,
   "metadata": {},
   "outputs": [
    {
     "name": "stdout",
     "output_type": "stream",
     "text": [
      "plan dari user Rosy\n",
      "Premium Plan                                                   Services\n",
      "-------------------------------------------------------------  --------------\n",
      "True                                                           can_stream\n",
      "True                                                           can_download\n",
      "True                                                           has_SD\n",
      "True                                                           has_HD\n",
      "True                                                           has_UHD\n",
      "4                                                              num_of_devices\n",
      "Basic Plan + Standard Plan + PacFlix Original Series or Movie  content\n",
      "200000                                                         price\n"
     ]
    }
   ],
   "source": [
    "user1.check_plan_user()"
   ]
  },
  {
   "cell_type": "code",
   "execution_count": 9,
   "metadata": {},
   "outputs": [
    {
     "name": "stdout",
     "output_type": "stream",
     "text": [
      "anda tidak bisa melakukan downgrade\n"
     ]
    }
   ],
   "source": [
    "user1.upgrade(\"Basic Plan\")"
   ]
  },
  {
   "cell_type": "code",
   "execution_count": 10,
   "metadata": {},
   "outputs": [
    {
     "name": "stdout",
     "output_type": "stream",
     "text": [
      "anda sudah berlangganan plan tersebut\n"
     ]
    }
   ],
   "source": [
    "user1.upgrade(\"Premium Plan\")"
   ]
  },
  {
   "cell_type": "code",
   "execution_count": 11,
   "metadata": {},
   "outputs": [],
   "source": [
    "user1.login('Budi')"
   ]
  },
  {
   "cell_type": "code",
   "execution_count": 12,
   "metadata": {},
   "outputs": [],
   "source": [
    "user1.current_plan"
   ]
  },
  {
   "cell_type": "code",
   "execution_count": 13,
   "metadata": {},
   "outputs": [
    {
     "name": "stdout",
     "output_type": "stream",
     "text": [
      "tidak ada plan tersebut\n"
     ]
    }
   ],
   "source": [
    "user1.subcribe('Basic plan','ihda123')"
   ]
  },
  {
   "cell_type": "code",
   "execution_count": null,
   "metadata": {},
   "outputs": [],
   "source": [
    "user1.login('Ana')"
   ]
  },
  {
   "cell_type": "code",
   "execution_count": null,
   "metadata": {},
   "outputs": [
    {
     "name": "stdout",
     "output_type": "stream",
     "text": [
      "selamat anda telah berlangganan Basic Plan, bayar 120000\n"
     ]
    }
   ],
   "source": [
    "user1.subcribe('Basic Plan','345123')"
   ]
  },
  {
   "cell_type": "code",
   "execution_count": null,
   "metadata": {},
   "outputs": [
    {
     "name": "stdout",
     "output_type": "stream",
     "text": [
      "plan dari user Ana\n",
      "Basic Plan            Services\n",
      "--------------------  --------------\n",
      "True                  can_stream\n",
      "True                  can_download\n",
      "True                  has_SD\n",
      "False                 has_HD\n",
      "False                 has_UHD\n",
      "1                     num_of_devices\n",
      "3rd party movie only  content\n",
      "120000                price\n"
     ]
    }
   ],
   "source": [
    "user1.check_plan_user()"
   ]
  },
  {
   "cell_type": "code",
   "execution_count": 15,
   "metadata": {},
   "outputs": [],
   "source": [
    "user1.login('Ihda')"
   ]
  },
  {
   "cell_type": "code",
   "execution_count": 16,
   "metadata": {},
   "outputs": [
    {
     "name": "stdout",
     "output_type": "stream",
     "text": [
      "Data Plan Pacflix\n",
      "Basic Plan            Standard Plan                                           Premium Plan                                                   Services\n",
      "--------------------  ------------------------------------------------------  -------------------------------------------------------------  --------------\n",
      "True                  True                                                    True                                                           can_stream\n",
      "True                  True                                                    True                                                           can_download\n",
      "True                  True                                                    True                                                           has_SD\n",
      "False                 True                                                    True                                                           has_HD\n",
      "False                 False                                                   True                                                           has_UHD\n",
      "1                     2                                                       4                                                              num_of_devices\n",
      "3rd party movie only  Basic Plan Content + Sports (F1, Football, Basketball)  Basic Plan + Standard Plan + PacFlix Original Series or Movie  content\n",
      "120000                160000                                                  200000                                                         price\n"
     ]
    }
   ],
   "source": [
    "user1.check_plan()\n"
   ]
  },
  {
   "cell_type": "code",
   "execution_count": 17,
   "metadata": {},
   "outputs": [
    {
     "name": "stdout",
     "output_type": "stream",
     "text": [
      "plan dari user Ihda\n",
      "Basic Plan            Services\n",
      "--------------------  --------------\n",
      "True                  can_stream\n",
      "True                  can_download\n",
      "True                  has_SD\n",
      "False                 has_HD\n",
      "False                 has_UHD\n",
      "1                     num_of_devices\n",
      "3rd party movie only  content\n",
      "120000                price\n"
     ]
    }
   ],
   "source": [
    "user1.check_plan_user()"
   ]
  },
  {
   "cell_type": "code",
   "execution_count": 18,
   "metadata": {},
   "outputs": [
    {
     "name": "stdout",
     "output_type": "stream",
     "text": [
      "selamat anda upgrade ke Standard Plan, bayar 160000\n"
     ]
    }
   ],
   "source": [
    "user1.upgrade(\"Standard Plan\")"
   ]
  },
  {
   "cell_type": "code",
   "execution_count": 19,
   "metadata": {},
   "outputs": [
    {
     "name": "stdout",
     "output_type": "stream",
     "text": [
      "plan dari user Ihda\n",
      "Standard Plan                                           Services\n",
      "------------------------------------------------------  --------------\n",
      "True                                                    can_stream\n",
      "True                                                    can_download\n",
      "True                                                    has_SD\n",
      "True                                                    has_HD\n",
      "False                                                   has_UHD\n",
      "2                                                       num_of_devices\n",
      "Basic Plan Content + Sports (F1, Football, Basketball)  content\n",
      "160000                                                  price\n"
     ]
    }
   ],
   "source": [
    "user1.check_plan_user()"
   ]
  },
  {
   "cell_type": "code",
   "execution_count": 20,
   "metadata": {},
   "outputs": [
    {
     "name": "stdout",
     "output_type": "stream",
     "text": [
      "anda tidak bisa melakukan downgrade\n"
     ]
    }
   ],
   "source": [
    "user1.upgrade(\"Basic Plan\")"
   ]
  },
  {
   "cell_type": "code",
   "execution_count": null,
   "metadata": {},
   "outputs": [],
   "source": []
  }
 ],
 "metadata": {
  "kernelspec": {
   "display_name": "Python 3",
   "language": "python",
   "name": "python3"
  },
  "language_info": {
   "codemirror_mode": {
    "name": "ipython",
    "version": 3
   },
   "file_extension": ".py",
   "mimetype": "text/x-python",
   "name": "python",
   "nbconvert_exporter": "python",
   "pygments_lexer": "ipython3",
   "version": "3.11.8"
  }
 },
 "nbformat": 4,
 "nbformat_minor": 2
}
